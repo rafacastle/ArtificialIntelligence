{
 "cells": [
  {
   "cell_type": "markdown",
   "id": "dbb7c4a9",
   "metadata": {},
   "source": [
    "# Resolución de un problema mediante búsqueda heurística\n",
    "\n",
    "### RafaCastle"
   ]
  },
  {
   "cell_type": "markdown",
   "id": "73ef3820",
   "metadata": {},
   "source": [
    "# Solución 1"
   ]
  },
  {
   "cell_type": "markdown",
   "id": "e84e0dec",
   "metadata": {},
   "source": [
    "# Resumen\n",
    "\n",
    "Este código utuliza la estrategia de búsqueda heurística A* con el fin de generar un plan que permita a un robot de Amazon mover el inventario de un estado inicial a un estado objetivo. Tanto el estado inicial como el estado objetivo pueden cambiarse dentro del mismo y el código arrojará la mejor solución, de existir alguna. El código genera un GIF llamado *RUTA_ROBOT.gif* donde se muestra la solución de manera gráfica, éste es guardado en la misma carpeta donde se ubique este notebook, también es mostrado al final del notebook."
   ]
  },
  {
   "cell_type": "code",
   "execution_count": 12,
   "id": "d8c09b61",
   "metadata": {},
   "outputs": [],
   "source": [
    "import heapq\n",
    "import numpy as np\n",
    "import matplotlib.pyplot as plt\n",
    "import imageio\n",
    "from IPython.display import Image"
   ]
  },
  {
   "cell_type": "markdown",
   "id": "2d342654",
   "metadata": {},
   "source": [
    "## Definiendo funciones"
   ]
  },
  {
   "cell_type": "markdown",
   "id": "6e08488b",
   "metadata": {},
   "source": [
    "Se definen 2 funciones, una implementa la busqueda A* y usa a la segunda función, que encuentra a las ditancias Manhattan, como función heurística. En la siguiente celda se muestra el funcionamiento detallado de cada una de las líneas."
   ]
  },
  {
   "cell_type": "code",
   "execution_count": 13,
   "id": "bf0d4a3f",
   "metadata": {},
   "outputs": [],
   "source": [
    "# Define la distancia de Manhattan entre dos puntos\n",
    "def distancia_manhattan(punto1, punto2):\n",
    "    return abs(punto1[0] - punto2[0]) + abs(punto1[1] - punto2[1])\n",
    "\n",
    "# Función que implementa la búsqueda A*\n",
    "def a_star(cuadricula, inicio, objetivo, visualizar, etiqueta='r',accion=''):\n",
    "    # Crea una estructura de datos para almacenar el camino más corto hasta el momento\n",
    "    heap = [(0, inicio)]\n",
    "    anterior = {}\n",
    "    costo_actual = {}\n",
    "    anterior[inicio] = None\n",
    "    costo_actual[inicio] = 0\n",
    "    imagenes_gif = []\n",
    "\n",
    "    # Mientras aún quedan puntos por explorar en el heap\n",
    "    while heap:\n",
    "        # Obtiene el punto con la menor distancia de Manhattan hasta el objetivo\n",
    "        actual = heapq.heappop(heap)[1]\n",
    "\n",
    "        # Si se ha llegado al objetivo, devuelve el camino más corto\n",
    "        if actual == objetivo:\n",
    "            camino = []\n",
    "            instrucciones = []\n",
    "            \n",
    "            # Recrear el camino de atrás para adelante, posteriormente se volteará\n",
    "            while actual != inicio:\n",
    "                camino.append(actual)\n",
    "                instrucciones.append(f'Ir hacia {actual}')\n",
    "                actual = anterior[actual]\n",
    "            camino.append(inicio)\n",
    "            \n",
    "            # Volteando\n",
    "            camino.reverse()\n",
    "            instrucciones.reverse()\n",
    "            instrucciones.append(accion)\n",
    "            \n",
    "            # Para ver la ruta gráficamente en dataframes\n",
    "            if visualizar:\n",
    "                for paso in camino:\n",
    "                    \n",
    "                    # Para generar el GIF\n",
    "                    cuadricula[paso[0]][paso[1]] = 120 #if accion == 'CARGA' else 250\n",
    "                    \n",
    "                    # Solo para mostrar los obstáculos en la imagen\n",
    "                    for objeto_colocado in objetos_colocados:\n",
    "                        cuadricula[objeto_colocado[0]][objeto_colocado[1]] = 250\n",
    "                        \n",
    "                    # Nueva cuadrícula más grande, para generar una buena imagen\n",
    "                    nueva_cuadricula = []\n",
    "                    for renglon in cuadricula:\n",
    "                        for j in range(80):\n",
    "                            nuevo_renglon = []\n",
    "                            nueva_cuadricula.append(nuevo_renglon)\n",
    "                            for punto in renglon:\n",
    "                                for i in range(80):\n",
    "                                    if type(punto)==str:\n",
    "                                        punto=120\n",
    "                                    nuevo_renglon.append(punto)\n",
    "                    imagenes_gif.append(nueva_cuadricula)\n",
    "                    \n",
    "                    # Se resetean los obstáculos\n",
    "                    for objeto_colocado in objetos_colocados:\n",
    "                        cuadricula[objeto_colocado[0]][objeto_colocado[1]] = 0\n",
    "                    \n",
    "                    # Reseteando la ubicación\n",
    "                    cuadricula[paso[0]][paso[1]] = 0\n",
    "            return camino, objetivo, len(camino), instrucciones, imagenes_gif \n",
    "\n",
    "        # Obtiene los vecinos del punto actual\n",
    "        vecinos = [(actual[0] + x, actual[1] + y) for x, y in [(0, 1), (0, -1), (1, 0), (-1, 0)]]\n",
    "\n",
    "        # Filtra los vecinos que están fuera de la cuadrícula o que son obstáculos\n",
    "        vecinos = [(x, y) for x, y in vecinos if 0 <= x < len(cuadricula) and 0 <= y < len(cuadricula[0]) and cuadricula[x][y] != 250]\n",
    "\n",
    "        # Para cada vecino, calcula la nueva distancia de Manhattan hasta el objetivo\n",
    "        for vecino in vecinos:\n",
    "            nuevo_costo = costo_actual[actual] + distancia_manhattan(vecino, objetivo)\n",
    "            \n",
    "             # Agrega el vecino al heap si es mejor que la distancia previa, cuidando no regresar por donde venías\n",
    "            if vecino not in costo_actual or nuevo_costo < costo_actual[vecino]:\n",
    "                costo_actual[vecino] = nuevo_costo\n",
    "                \n",
    "                # Obtenemos las proridades para la función heapq.heappush\n",
    "                prioridad = nuevo_costo + distancia_manhattan(vecino, objetivo)\n",
    "                heapq.heappush(heap, (prioridad, vecino))\n",
    "                anterior[vecino] = actual\n",
    "\n",
    "    # Si no se ha encontrado un camino hasta el objetivo, devuelve None\n",
    "    return None"
   ]
  },
  {
   "cell_type": "markdown",
   "id": "5dba5592",
   "metadata": {},
   "source": [
    "## Corriendo el código"
   ]
  },
  {
   "cell_type": "code",
   "execution_count": 14,
   "id": "e58e4aaf",
   "metadata": {
    "scrolled": false
   },
   "outputs": [
    {
     "name": "stdout",
     "output_type": "stream",
     "text": [
      "Instrucciones\n",
      "\n",
      "Estas en (2, 2) \n",
      "\n",
      "1: Ir hacia (2, 1)\n",
      "2: Ir hacia (2, 0)\n",
      "3: CARGA\n",
      "4: Ir hacia (2, 1)\n",
      "5: Ir hacia (2, 2)\n",
      "6: Ir hacia (3, 2)\n",
      "7: DESCARGA\n",
      "8: Ir hacia (2, 2)\n",
      "9: Ir hacia (1, 2)\n",
      "10: Ir hacia (0, 2)\n",
      "11: Ir hacia (0, 3)\n",
      "12: CARGA\n",
      "13: Ir hacia (0, 2)\n",
      "14: Ir hacia (1, 2)\n",
      "15: Ir hacia (2, 2)\n",
      "16: Ir hacia (2, 1)\n",
      "17: Ir hacia (3, 1)\n",
      "18: DESCARGA\n",
      "19: Ir hacia (2, 1)\n",
      "20: Ir hacia (2, 0)\n",
      "21: Ir hacia (1, 0)\n",
      "22: Ir hacia (0, 0)\n",
      "23: CARGA\n",
      "24: Ir hacia (1, 0)\n",
      "25: Ir hacia (2, 0)\n",
      "26: Ir hacia (2, 1)\n",
      "27: Ir hacia (2, 2)\n",
      "28: Ir hacia (2, 3)\n",
      "29: Ir hacia (3, 3)\n",
      "30: DESCARGA\n",
      "\n",
      "Total de acciones = 30\n"
     ]
    }
   ],
   "source": [
    "# Creando cuadrícula con obstáculos\n",
    "#los valores 250 representan los obstáculos\n",
    "cuadricula = [[0, 250, 0, 0],\n",
    "              [0, 250, 0, 0],\n",
    "              [0, 0, 0, 0],\n",
    "              [0, 0, 0, 0]]\n",
    "\n",
    "# copia para resetear la cuadrícula más adelante\n",
    "cuadricula_copia = cuadricula[:]\n",
    "\n",
    "# Definir la posición de inicio y destino\n",
    "posicion = (2, 2)\n",
    "\n",
    "# haciendo una copia\n",
    "primera_posicion=tuple(posicion)\n",
    "\n",
    "objetos = {'M1':(0,0),'M2':(2,0),'M3':(0,3)}\n",
    "objetos_destino = {'M1':(3,3),'M2':(3,2),'M3':(3,1)}\n",
    "\n",
    "# listas y diccionarios vacíos que se llenarán al finalizar\n",
    "objetos_colocados=[]\n",
    "objetos_final={}\n",
    "instrucciones_completas=[]\n",
    "imagenes_secuencia = []\n",
    "\n",
    "while len(objetos)>0:\n",
    "    rutas={}\n",
    "    for objeto in objetos:\n",
    "        posicion_objetivo = objetos[objeto]\n",
    "\n",
    "        # Realizar la búsqueda A*\n",
    "        ruta, _, costo_real, _, _ = a_star(cuadricula, posicion, posicion_objetivo, False)\n",
    "        rutas[objeto]=costo_real\n",
    "        \n",
    "        # Agregar las cajas\n",
    "        cuadricula[objetos[objeto][0]][objetos[objeto][1]] = objeto\n",
    "\n",
    "    # Vamos por la carga!\n",
    "    \n",
    "    # Escogiendo el objeto más cercano\n",
    "    objeto_cercano = min(rutas, key=rutas.get)\n",
    "    posicion_objetivo = objetos[objeto_cercano]\n",
    "    \n",
    "    # Buscando la mejor ruta\n",
    "    ruta, posicion, costo_real, instrucciones, imagenes = a_star(cuadricula, posicion, posicion_objetivo, True, 'R', 'CARGA')\n",
    "    imagenes_secuencia+=imagenes\n",
    "    instrucciones_completas+=instrucciones\n",
    "    \n",
    "    # Regresamos con la carga!\n",
    "    \n",
    "    # Agregar los objetos ya colocados\n",
    "    for objeto_colocado in objetos_colocados:\n",
    "        cuadricula[objeto_colocado[0]][objeto_colocado[1]] = 250\n",
    "        \n",
    "    # Buscando la mejor ruta\n",
    "    posicion_objetivo = objetos_destino[objeto_cercano]\n",
    "    ruta, posicion, costo_real, instrucciones, imagenes = a_star(cuadricula, posicion, posicion_objetivo, True, objeto_cercano, 'DESCARGA')\n",
    "    imagenes_secuencia+=imagenes\n",
    "    instrucciones_completas+=instrucciones\n",
    "    \n",
    "    # Registrar el objeto colocado\n",
    "    objetos_colocados.append(posicion)\n",
    "    objetos.pop(objeto_cercano)\n",
    "    \n",
    "    objetos_final[objeto_cercano]=posicion\n",
    "    \n",
    "    # Reseteando la cuadrícula\n",
    "    cuadricula = cuadricula_copia\n",
    "\n",
    "print('Instrucciones\\n')    \n",
    "\n",
    "print(f'Estas en {primera_posicion} \\n')\n",
    "for i,instruccion in enumerate(instrucciones_completas):\n",
    "    print(f'{i+1}:', instruccion)\n",
    "    \n",
    "print(f'\\nTotal de acciones = {len(instrucciones_completas)}')"
   ]
  },
  {
   "cell_type": "markdown",
   "id": "a6cd0d1a",
   "metadata": {},
   "source": [
    "## Creando GIF\n"
   ]
  },
  {
   "cell_type": "markdown",
   "id": "8a28f856",
   "metadata": {},
   "source": [
    "El GIF no se visualiza en el visor de github pero se encuentra en este repositorio, puede visualizarse al entrar directamente al archivo."
   ]
  },
  {
   "cell_type": "code",
   "execution_count": 15,
   "id": "0b8f0c43",
   "metadata": {
    "scrolled": false
   },
   "outputs": [
    {
     "name": "stdout",
     "output_type": "stream",
     "text": [
      "GIF creado con la solución: \n"
     ]
    },
    {
     "data": {
      "image/gif": "[encoded data removed]",
      "text/plain": [
       "<IPython.core.display.Image object>"
      ]
     },
     "metadata": {},
     "output_type": "display_data"
    }
   ],
   "source": [
    "imageio.mimsave('RUTA_ROBOT.gif', np.array(imagenes_secuencia).astype(np.uint8), fps=8)\n",
    "print('GIF creado con la solución: ')\n",
    "display(Image(filename='RUTA_ROBOT.gif'))"
   ]
  }
 ],
 "metadata": {
  "kernelspec": {
   "display_name": "Python 3",
   "language": "python",
   "name": "python3"
  },
  "language_info": {
   "codemirror_mode": {
    "name": "ipython",
    "version": 3
   },
   "file_extension": ".py",
   "mimetype": "text/x-python",
   "name": "python",
   "nbconvert_exporter": "python",
   "pygments_lexer": "ipython3",
   "version": "3.8.8"
  }
 },
 "nbformat": 4,
 "nbformat_minor": 5
}
